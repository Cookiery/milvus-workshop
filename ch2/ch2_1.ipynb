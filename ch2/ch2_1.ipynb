{
 "cells": [
  {
   "cell_type": "markdown",
   "id": "8366f361-743c-42b0-b76d-c9265a4af4c5",
   "metadata": {},
   "source": [
    "\n",
    "# 第二部分：Milvus 基础操作 - 使用 Python SDK  [![Open In Colab](https://colab.research.google.com/assets/colab-badge.svg)](https://colab.research.google.com/github/richzw/milvus-workshop/blob/main/ch2/ch2_1.ipynb)\n",
    "欢迎来到 Milvus Workshop 的第二部分！在这一部分，我们将学习如何使用 Python SDK (PyMilvus) 与 Milvus进行交互，重点关注 Collection 的管理。\n",
    "**在开始之前，请确保您已经：**\n",
    "1. 安装了 Milvus 服务并已启动。\n",
    "2. 安装了 `pymilvus` Python SDK (`pip install pymilvus`)."
   ]
  },
  {
   "cell_type": "code",
   "execution_count": null,
   "id": "fe9fb5a5-6f3c-492e-9762-875a6a409a8e",
   "metadata": {},
   "outputs": [],
   "source": [
    "!pip install pymilvus==2.5.8"
   ]
  },
  {
   "cell_type": "markdown",
   "id": "73f2041f-8cba-461e-98bf-09badea6b63b",
   "metadata": {},
   "source": [
    "## 2.1 连接 Milvus 并管理 Collections\n",
    "\n",
    "首先，我们需要连接到正在运行的 Milvus 服务。"
   ]
  },
  {
   "cell_type": "code",
   "execution_count": 1,
   "id": "d2273163-6e93-4999-b231-9fd7bc4a4622",
   "metadata": {},
   "outputs": [],
   "source": [
    "# 导入必要的库\n",
    "from pymilvus import MilvusClient, DataType, FieldSchema, CollectionSchema "
   ]
  },
  {
   "cell_type": "code",
   "execution_count": 2,
   "id": "b686a25b-0f80-476c-a5f1-7a2d3d5a402e",
   "metadata": {},
   "outputs": [
    {
     "name": "stdout",
     "output_type": "stream",
     "text": [
      "成功创建 MilvusClient 并连接到 Milvus 服务: http://localhost:19530\n",
      "Milvus server version (via client): 2.5.11\n"
     ]
    }
   ],
   "source": [
    "# 连接到 Milvus 服务\n",
    "# MilvusClient uses a URI or host/port for connection.\n",
    "MILVUS_HOST = \"localhost\" # 或者你的 Milvus 服务器 IP\n",
    "MILVUS_PORT = \"19530\"\n",
    "MILVUS_URI = f\"http://{MILVUS_HOST}:{MILVUS_PORT}\" # Recommended format\n",
    "\n",
    "# 或者，如果你有用户名和密码 (for Zilliz Cloud or Milvus with auth)\n",
    "# MILVUS_USER = \"username\"\n",
    "# MILVUS_PASSWORD = \"password\"\n",
    "# client = MilvusClient(uri=MILVUS_URI, user=MILVUS_USER, password=MILVUS_PASSWORD)\n",
    "\n",
    "try:\n",
    "    # 创建 MilvusClient 实例\n",
    "    client = MilvusClient(\n",
    "        uri=MILVUS_URI\n",
    "        # token=\"YOUR_API_KEY_OR_TOKEN\" # For Zilliz Cloud serverless or other token-based auth\n",
    "        # db_name=\"default\" # Specify database if not default (Milvus 2.2.9+)\n",
    "    )\n",
    "    print(f\"成功创建 MilvusClient 并连接到 Milvus 服务: {MILVUS_URI}\")\n",
    "    print(f\"Milvus server version (via client): {client.get_server_version()}\")\n",
    "except Exception as e:\n",
    "    print(f\"创建 MilvusClient 或连接 Milvus 服务失败: {e}\")"
   ]
  },
  {
   "cell_type": "markdown",
   "id": "5c1da28b-58d2-42e5-9a1d-bec0292964df",
   "metadata": {},
   "source": [
    "### 概念：Collection (集合)\n",
    "\n",
    "在 Milvus 中，**Collection** 是一组实体的集合，类似于关系型数据库(如MySQL)中的“表”或 Elasticsearch 中的“索引”。\n",
    "\n",
    "- 一个 Collection 包含一组具有相同结构（Schema）的实体（Entities）。\n",
    "- 每个实体可以包含多个字段（Fields），其中包括向量字段和标量字段。\n",
    "- Collection 是进行向量搜索、插入和管理数据的基本单位。"
   ]
  },
  {
   "cell_type": "markdown",
   "id": "1839cbe2-a11b-401d-aab8-222a91ff1004",
   "metadata": {},
   "source": [
    "### 实操：定义 Collection Schema (结构)\n",
    "要创建一个 Collection，首先需要定义它的 **Schema**。Schema 定义了 Collection 中每个字段的名称、数据类型和其他属性。\n",
    "#### Field 的概念\n",
    "- **主键字段 (Primary Key Field)**:\n",
    "  - 用于唯一标识 Collection 中的每一个实体。\n",
    "  - 每个 Collection 必须有且仅有一个主键字段。\n",
    "  - 数据类型通常是 `INT64` 或 `VARCHAR`。\n",
    "  - 在 `FieldSchema` 中通过 `is_primary=True` 指定。\n",
    "- **向量字段 (Vector Field)**:\n",
    "  - 用于存储向量嵌入 (embeddings)。这是 Milvus 进行相似性搜索的核心。\n",
    "  - 数据类型通常是 `FLOAT_VECTOR` (浮点型向量) 或 `BINARY_VECTOR` (二值型向量)。\n",
    "  - 创建时必须指定向量的维度 `dim`。\n",
    "- **标量字段 (Scalar Field)**:\n",
    "  - 用于存储非向量类型的属性数据，如 ID、名称、类别、时间戳等。\n",
    "  - 可以用于过滤查询结果 (Attribute Filtering) 或作为元数据返回。\n",
    "  - 支持多种数据类型。\n",
    "\n",
    "#### 数据类型 (Data Types)\n",
    "Milvus 支持以下主要的数据类型：\n",
    "- `DataType.BOOL`: 布尔型 (True/False)\n",
    "- `DataType.INT8`, `DataType.INT16`, `DataType.INT32`, `DataType.INT64`: 不同位数的整型\n",
    "- `DataType.FLOAT`, `DataType.DOUBLE`: 单精度和双精度浮点型\n",
    "- `DataType.STRING`: 字符串类型（通常用于较长文本，UTF-8编码，长度理论上无限制，但实际受限于gRPC传输大小）\n",
    "- `DataType.VARCHAR`: 变长字符串类型（UTF-8编码，创建时需要指定 `max_length`，最大长度65535）\n",
    "- `DataType.ARRAY`: 数组类型，可以包含标量数据。需要指定 `element_type` 和 `max_capacity`。\n",
    "- `DataType.JSON`: JSON 类型，用于存储半结构化数据。\n",
    "- `DataType.FLOAT_VECTOR`: 浮点型向量。\n",
    "- `DataType.BINARY_VECTOR`: 二值型向量。"
   ]
  },
  {
   "cell_type": "markdown",
   "id": "729d0454-9d7a-41d8-aa7b-2541afa84750",
   "metadata": {},
   "source": [
    "#### 如何定义主键 (Primary Key)\n",
    "主键字段用于唯一标识每个实体。\n",
    "- `is_primary=True`\n",
    "- 数据类型通常为 `INT64` 或 `VARCHAR` (需要指定 `max_length`)。\n",
    "- 如果主键字段是 `INT64` 类型，可以设置 `auto_id=True` 来让 Milvus 自动生成唯一的 ID。如果为 `VARCHAR`，则 `auto_id` 必须为 `False`，并且在插入数据时用户必须提供唯一值。"
   ]
  },
  {
   "cell_type": "code",
   "execution_count": 3,
   "id": "66ed918d-0fe9-4457-a45c-939efe41d6fc",
   "metadata": {},
   "outputs": [
    {
     "name": "stdout",
     "output_type": "stream",
     "text": [
      "主键字段 (自动ID): {'name': 'doc_id', 'description': 'Document ID (auto-generated)', 'type': <DataType.INT64: 5>, 'is_primary': True, 'auto_id': True}\n"
     ]
    }
   ],
   "source": [
    "# 示例：定义一个 INT64 类型的主键字段，并启用自动 ID 生成\n",
    "pk_field_auto_id = FieldSchema(\n",
    "  name=\"doc_id\",          # 字段名\n",
    "  dtype=DataType.INT64,   # 数据类型\n",
    "  is_primary=True,        # 设为主键\n",
    "  auto_id=True,           # 启用自动 ID 生成\n",
    "  description=\"Document ID (auto-generated)\" # 字段描述\n",
    ")\n",
    "print(f\"主键字段 (自动ID): {pk_field_auto_id}\")"
   ]
  },
  {
   "cell_type": "code",
   "execution_count": 4,
   "id": "45ca452f-f99b-40d1-9b2b-ab9715abb538",
   "metadata": {},
   "outputs": [
    {
     "name": "stdout",
     "output_type": "stream",
     "text": [
      "主键字段 (用户提供ID): {'name': 'user_uuid', 'description': 'User unique identifier (provided by user)', 'type': <DataType.VARCHAR: 21>, 'params': {'max_length': 36}, 'is_primary': True, 'auto_id': False}\n"
     ]
    }
   ],
   "source": [
    "# 示例：定义一个 VARCHAR 类型的主键字段 (需要用户提供ID)\n",
    "pk_field_user_id = FieldSchema(\n",
    "  name=\"user_uuid\",\n",
    "  dtype=DataType.VARCHAR,\n",
    "  max_length=36,          # VARCHAR 必须指定最大长度\n",
    "  is_primary=True,\n",
    "  auto_id=False,          # VARCHAR 主键不能自动生成ID\n",
    "  description=\"User unique identifier (provided by user)\"\n",
    ")\n",
    "print(f\"主键字段 (用户提供ID): {pk_field_user_id}\")"
   ]
  },
  {
   "cell_type": "markdown",
   "id": "cac759f7-6772-44a8-8574-1d14114d6b84",
   "metadata": {},
   "source": [
    "#### 如何定义自动ID (Auto ID)\n",
    "\n",
    "如上所述，当主键字段的数据类型为 `INT64` 时，可以通过设置 `auto_id=True` 来让 Milvus 自动为插入的每条实体生成唯一的 ID。这简化了数据插入过程，因为用户无需自己管理和提供主键值。\n",
    "\n",
    "如果 `auto_id=False` (默认值，除非 `is_primary=True` 且 `dtype=DataType.INT64` 时，`auto_id` 的行为可能因版本而异，推荐显式设置)，或者主键类型不是 `INT64`，则用户在插入数据时必须为该主键字段提供唯一值。"
   ]
  },
  {
   "cell_type": "markdown",
   "id": "c966a383-ab5c-4606-a49e-c5051d1acb2b",
   "metadata": {},
   "source": [
    "#### 如何定义 Vector Field (维度 Dimension)\n",
    "向量字段是 Milvus 的核心，用于存储向量嵌入。\n",
    "- `dtype` 必须是 `DataType.FLOAT_VECTOR` 或 `DataType.BINARY_VECTOR`。\n",
    "- `dim` 参数必须指定，代表向量的维度。例如，一个由 BERT 模型生成的向量可能有 768 维。"
   ]
  },
  {
   "cell_type": "code",
   "execution_count": 5,
   "id": "c00a3931-4070-41e4-902f-e77eb43f1427",
   "metadata": {},
   "outputs": [
    {
     "name": "stdout",
     "output_type": "stream",
     "text": [
      "向量字段: {'name': 'embedding', 'description': '128-dimensional float vector embedding', 'type': <DataType.FLOAT_VECTOR: 101>, 'params': {'dim': 128}}\n"
     ]
    }
   ],
   "source": [
    "# 示例：定义一个 128 维的浮点型向量字段\n",
    "vector_field_128d = FieldSchema(\n",
    "  name=\"embedding\",\n",
    "  dtype=DataType.FLOAT_VECTOR,\n",
    "  dim=128,                 # 向量维度\n",
    "  description=\"128-dimensional float vector embedding\"\n",
    ")\n",
    "print(f\"向量字段: {vector_field_128d}\")"
   ]
  },
  {
   "cell_type": "markdown",
   "id": "a160d1ae-7b40-4d80-b686-3b1959772341",
   "metadata": {},
   "source": [
    "### 实操：创建、删除、查看 Collection\n",
    "\n",
    "现在我们将结合以上概念，实际操作 Collection。\n",
    "\n",
    "**1. 定义完整的 Collection Schema**"
   ]
  },
  {
   "cell_type": "code",
   "execution_count": 6,
   "id": "3e804669-8a85-4182-a274-0de65d441d5f",
   "metadata": {},
   "outputs": [
    {
     "name": "stdout",
     "output_type": "stream",
     "text": [
      "Schema 定义完成:\n"
     ]
    }
   ],
   "source": [
    "COLLECTION_NAME_DEMO = \"my_collection\" \n",
    "\n",
    "# 先尝试删除，确保环境干净 (如果不存在会忽略)\n",
    "if client.has_collection(collection_name=COLLECTION_NAME_DEMO):\n",
    "    print(f\"发现已存在的 Collection '{COLLECTION_NAME_DEMO}', 将其删除。\")\n",
    "    client.drop_collection(collection_name=COLLECTION_NAME_DEMO)\n",
    "\n",
    "# 定义字段\n",
    "field1 = FieldSchema(name=\"id\", dtype=DataType.INT64, is_primary=True, auto_id=True)\n",
    "field2 = FieldSchema(name=\"title\", dtype=DataType.VARCHAR, max_length=512)\n",
    "field3 = FieldSchema(name=\"views\", dtype=DataType.INT32)\n",
    "field4 = FieldSchema(name=\"embedding\", dtype=DataType.FLOAT_VECTOR, dim=8) # 使用一个较小的维度方便演示\n",
    "\n",
    "# 定义 Schema\n",
    "schema = CollectionSchema(\n",
    "  fields=[field1, field2, field3, field4],\n",
    "  description=\"A simple collection for demonstration purposes (using MilvusClient)\",\n",
    "  enable_dynamic_field=False # 是否启用动态字段 (Dynamic Schema)\n",
    "  # True: 允许插入 Schema 中未定义的字段，这些字段将作为 JSON 存储。\n",
    "  # False: (默认) 严格按照 Schema 定义插入数据。\n",
    ")\n",
    "\n",
    "print(\"Schema 定义完成:\")"
   ]
  },
  {
   "cell_type": "markdown",
   "id": "5613d1bd-da11-497f-990f-e96f71d9e566",
   "metadata": {},
   "source": [
    "**2. 创建 Collection**\n",
    "\n",
    "使用定义好的 Schema 和 Collection 名称来创建 Collection。\n",
    "\n",
    "`consistency_level` 参数指定了 Collection 的一致性级别，影响数据可见性和搜索准确性。常用级别：\n",
    "- `Strong`: 强一致性，写入操作完成后，后续读取/搜索操作能立即看到最新数据。\n",
    "- `Bounded`: 有限期过时，允许在一定时间窗口内读取到稍微过时的数据，性能较好。\n",
    "- `Session`: 会话一致性，同一会话内的操作保证一致性。\n",
    "- `Eventually`: 最终一致性，写入操作最终会可见，延迟可能较大，性能最好。\n",
    "\n",
    "对于大多数应用，`Bounded` 或 `Strong` 是常见的选择。默认为 `Bounded`。"
   ]
  },
  {
   "cell_type": "code",
   "execution_count": 7,
   "id": "eb6523a3-6cf3-48a9-a63f-201da7fbd521",
   "metadata": {},
   "outputs": [
    {
     "name": "stdout",
     "output_type": "stream",
     "text": [
      "Collection 'my_collection' 创建成功!\n"
     ]
    }
   ],
   "source": [
    "# 创建 Collection\n",
    "try:\n",
    "    # 注意：consistency_level 是一个重要的参数\n",
    "    client.create_collection(\n",
    "        collection_name=COLLECTION_NAME_DEMO,\n",
    "        schema=schema, # Pass the CollectionSchema object\n",
    "        # alternatively, you can pass dim directly for simple cases:\n",
    "        # collection_name=COLLECTION_NAME_DEMO,\n",
    "        # dimension=8, # Only if you have one vector field and a primary key\n",
    "        consistency_level=\"Strong\" # 或者 \"Bounded\", \"Session\", \"Eventually\"\n",
    "    )\n",
    "    print(f\"Collection '{COLLECTION_NAME_DEMO}' 创建成功!\")\n",
    "except Exception as e:\n",
    "    print(f\"创建 Collection '{COLLECTION_NAME_DEMO}' 失败: {e}\")"
   ]
  },
  {
   "cell_type": "markdown",
   "id": "30b49b33-2ab1-411a-be73-595cc6905cb5",
   "metadata": {},
   "source": [
    "**3. 查看 Collection 信息**\n",
    "\n",
    "我们可以查看当前 Milvus 实例中的所有 Collections，或者获取特定 Collection 的详细信息。"
   ]
  },
  {
   "cell_type": "code",
   "execution_count": 8,
   "id": "9276660b-5c67-47ff-8771-4bf235ef1fc1",
   "metadata": {},
   "outputs": [
    {
     "name": "stdout",
     "output_type": "stream",
     "text": [
      "当前 Milvus 中的所有 Collections: ['my_collection']\n",
      "Collection 'my_collection' 是否存在: True\n",
      "\n",
      "Collection 'my_collection' 描述信息:\n",
      "  - Description: A simple collection for demonstration purposes (using MilvusClient)\n",
      "  - Auto ID: True\n",
      "  - Consistency Level: 0\n",
      "  - Number of Partitions: 1\n",
      "\n",
      "  - Schema Fields:\n",
      "    - Name: id, Type: 5, Is Primary: True, Dim: N/A\n",
      "    - Name: title, Type: 21, Is Primary: False, Dim: N/A\n",
      "    - Name: views, Type: 4, Is Primary: False, Dim: N/A\n",
      "    - Name: embedding, Type: 101, Is Primary: False, Dim: 8\n",
      "\n",
      "Collection 'my_collection' 统计信息: {'row_count': 0}\n"
     ]
    }
   ],
   "source": [
    "# 列出所有 Collections\n",
    "all_collections = client.list_collections()\n",
    "print(f\"当前 Milvus 中的所有 Collections: {all_collections}\")\n",
    "\n",
    "# 检查特定 Collection 是否存在\n",
    "exists = client.has_collection(collection_name=COLLECTION_NAME_DEMO)\n",
    "print(f\"Collection '{COLLECTION_NAME_DEMO}' 是否存在: {exists}\")\n",
    "\n",
    "if exists:\n",
    "    # 获取 Collection 描述信息 (包括 schema, num_entities 等)\n",
    "    desc = client.describe_collection(collection_name=COLLECTION_NAME_DEMO)\n",
    "    print(f\"\\nCollection '{desc['collection_name']}' 描述信息:\")\n",
    "    print(f\"  - Description: {desc['description']}\")\n",
    "    print(f\"  - Auto ID: {desc['auto_id']}\")\n",
    "    print(f\"  - Consistency Level: {desc['consistency_level']}\")\n",
    "    print(f\"  - Number of Partitions: {desc['num_partitions']}\") # MilvusClient returns num_entities directly in describe\n",
    "\n",
    "    print(f\"\\n  - Schema Fields:\")\n",
    "    for field_info in desc['fields']:\n",
    "        print(f\"    - Name: {field_info['name']}, Type: {field_info['type']}, Is Primary: {field_info.get('is_primary', False)}\"\n",
    "              f\", Dim: {field_info.get('params', {}).get('dim', 'N/A')}\") # field_info['params']['dim'] if vector\n",
    "\n",
    "    # 获取 Collection 统计信息 (更侧重于 row_count, sealed/growing segments等)\n",
    "    stats = client.get_collection_stats(collection_name=COLLECTION_NAME_DEMO)\n",
    "    print(f\"\\nCollection '{COLLECTION_NAME_DEMO}' 统计信息: {stats}\")\n",
    "    "
   ]
  },
  {
   "cell_type": "markdown",
   "id": "12a1b683-e0db-4500-a28f-1d9c463f461b",
   "metadata": {},
   "source": [
    "**4. 删除 Collection**\n",
    "\n",
    "如果不再需要某个 Collection，可以将其删除。**注意：删除操作是不可逆的，会永久移除 Collection 及其所有数据。**"
   ]
  },
  {
   "cell_type": "code",
   "execution_count": 9,
   "id": "244cfa7b-aefc-4ac1-9c10-61e793f865ef",
   "metadata": {},
   "outputs": [
    {
     "name": "stdout",
     "output_type": "stream",
     "text": [
      "Collection 'my_collection' 已成功删除。\n",
      "Collection 'my_collection' 是否存在 (删除后): False\n"
     ]
    }
   ],
   "source": [
    "# 删除 Collection\n",
    "try:\n",
    "    client.drop_collection(collection_name=COLLECTION_NAME_DEMO)\n",
    "    print(f\"Collection '{COLLECTION_NAME_DEMO}' 已成功删除。\")\n",
    "except Exception as e:\n",
    "    print(f\"删除 Collection '{COLLECTION_NAME_DEMO}' 失败: {e}\")\n",
    "\n",
    "# 再次检查 Collection 是否存在\n",
    "exists_after_drop = client.has_collection(collection_name=COLLECTION_NAME_DEMO)\n",
    "print(f\"Collection '{COLLECTION_NAME_DEMO}' 是否存在 (删除后): {exists_after_drop}\")\n"
   ]
  },
  {
   "cell_type": "markdown",
   "id": "10a63364-d3e8-4824-8fb4-362c53508600",
   "metadata": {},
   "source": [
    "### 实操：加载 (Load) 和释放 (Release) Collection\n",
    "\n",
    "在 Milvus 中，数据默认存储在磁盘（或对象存储）上。为了进行高效的搜索和查询，需要将 Collection 的数据（或其一部分，如特定的 Segment 或 Partition）加载到 Milvus QueryNode 的内存中。\n",
    "\n",
    "- **`client.load_collection()`**: 将 Collection 数据加载到内存中，使其可供搜索/查询。\n",
    "- **`client.release_collection()`**: 从内存中释放 Collection 数据，以节省内存资源。数据本身不会被删除，仍然保留在存储中。\n",
    "\n",
    "**Load 的重要性**:\n",
    "\n",
    "- **性能**: 对内存中的数据进行搜索远快于对磁盘数据进行搜索。\n",
    "- **资源管理**: 对于非常大的数据集，可能无法将所有数据同时加载到内存。Milvus 允许加载特定的分区 (Partitions) 或让 Milvus 根据资源情况自动管理。\n",
    "- **准备就绪**: 只有加载完成的 Collection 才能被有效查询。\n",
    "\n",
    "我们重新创建之前的 `simple_collection` 来演示加载和释放。"
   ]
  },
  {
   "cell_type": "code",
   "execution_count": 10,
   "id": "7695a23d-ef3d-4227-a90e-715a07284e2a",
   "metadata": {},
   "outputs": [
    {
     "name": "stdout",
     "output_type": "stream",
     "text": [
      "Collection 'my_collection' 已重新创建。\n"
     ]
    }
   ],
   "source": [
    "# 1. 重新创建 Collection (如果不存在)\n",
    "if not client.has_collection(collection_name=COLLECTION_NAME_DEMO):\n",
    "    # schema 变量在前面已经定义过了，这里可以直接使用\n",
    "    client.create_collection(\n",
    "        collection_name=COLLECTION_NAME_DEMO,\n",
    "        schema=schema,\n",
    "        consistency_level=\"Strong\"\n",
    "    )\n",
    "    print(f\"Collection '{COLLECTION_NAME_DEMO}' 已重新创建。\")\n",
    "else:\n",
    "    print(f\"Collection '{COLLECTION_NAME_DEMO}' 已存在，直接使用。\")"
   ]
  },
  {
   "cell_type": "code",
   "execution_count": 11,
   "id": "04ef88ab-ccab-40a3-aacf-f7387dc1e6ee",
   "metadata": {},
   "outputs": [
    {
     "name": "stdout",
     "output_type": "stream",
     "text": [
      "开始加载 Collection 'my_collection'...\n",
      "Collection 'my_collection' 加载指令已发送。\n",
      "加载状态信息: {'state': <LoadState: Loaded>}\n"
     ]
    }
   ],
   "source": [
    "# 2. 加载 Collection\n",
    "# 在加载之前，需要先为向量字段创建索引 (后续详细介绍索引相关内容)\n",
    "index_params = MilvusClient.prepare_index_params()\n",
    "\n",
    "index_params.add_index(\n",
    "    field_name=\"embedding\",\n",
    "    metric_type=\"COSINE\",\n",
    "    index_type=\"IVF_FLAT\",\n",
    "    index_name=\"vector_index\",\n",
    "    params={ \"nlist\": 128 }\n",
    ")\n",
    "\n",
    "client.create_index(\n",
    "    collection_name=COLLECTION_NAME_DEMO,\n",
    "    index_params=index_params,\n",
    "    sync=False # Whether to wait for index creation to complete before returning. Defaults to True.\n",
    ")\n",
    "\n",
    "try:\n",
    "    print(f\"开始加载 Collection '{COLLECTION_NAME_DEMO}'...\")\n",
    "    client.load_collection(collection_name=COLLECTION_NAME_DEMO)\n",
    "    print(f\"Collection '{COLLECTION_NAME_DEMO}' 加载指令已发送。\")\n",
    "\n",
    "    # 查看加载状态 (MilvusClient 2.3+)\n",
    "    # `get_load_state` returns a dictionary like {'state': <LoadState: Loaded: 1 NotLoad: 2 Loading: 3>}\n",
    "    load_state_info = client.get_load_state(collection_name=COLLECTION_NAME_DEMO)\n",
    "    print(f\"加载状态信息: {load_state_info}\")\n",
    "except Exception as e:\n",
    "    print(f\"加载 Collection '{COLLECTION_NAME_DEMO}' 失败: {e}\")\n",
    "    raise\n"
   ]
  },
  {
   "cell_type": "markdown",
   "id": "8e6b9d33-ee49-4171-87ca-dcd73eddac6e",
   "metadata": {},
   "source": [
    "**注意**:\n",
    "- 对于一个新创建且没有数据的 Collection，`load_collection()` 操作会很快完成。\n",
    "- 当 Collection 中有数据时，加载过程可能需要一些时间。\n",
    "- `load_collection()` 是一个异步操作，它会立即返回。可以使用 `client.get_load_state()` 检查加载状态。\n",
    "- 在对 Collection 执行搜索操作之前，必须确保它已加载。"
   ]
  },
  {
   "cell_type": "code",
   "execution_count": 12,
   "id": "076be056-31ed-433a-91d2-7e65f61f6be8",
   "metadata": {},
   "outputs": [
    {
     "name": "stdout",
     "output_type": "stream",
     "text": [
      "开始释放 Collection 'my_collection'...\n",
      "Collection 'my_collection' 已从内存中释放。\n"
     ]
    }
   ],
   "source": [
    "# 3. 释放 Collection\n",
    "try:\n",
    "    print(f\"开始释放 Collection '{COLLECTION_NAME_DEMO}'...\")\n",
    "    client.release_collection(collection_name=COLLECTION_NAME_DEMO)\n",
    "    print(f\"Collection '{COLLECTION_NAME_DEMO}' 已从内存中释放。\")\n",
    "except Exception as e:\n",
    "    print(f\"释放 Collection '{COLLECTION_NAME_DEMO}' 失败: {e}\")"
   ]
  },
  {
   "cell_type": "markdown",
   "id": "95941c43-39bb-4cc5-8bd0-90a5bb9ad74e",
   "metadata": {},
   "source": [
    "### 实操：创建带有 TTL (Time-To-Live) 的 Collection\n",
    "\n",
    "Time-To-Live (TTL) 是 Milvus Collection 的一个属性，它允许您为数据设置一个“存活时间”。当数据超过这个设定的时间后，Milvus 会自动将其删除。TTL 的单位是**秒**。\n",
    "\n",
    "TTL相关操作\n",
    "\n",
    "- 创建collection\n",
    "  ```py\n",
    "  client.create_collection(\n",
    "        properties={ \"collection.ttl.seconds\": TTL_SECONDS}\n",
    "    )\n",
    "  ```\n",
    "- 为既有collection添加TTL\n",
    "  ```py\n",
    "  client.alter_collection_properties(\n",
    "        properties={\"collection.ttl.seconds\": TTL_SECONDS}\n",
    "  )\n",
    "  ```\n",
    "- 删除 TTL\n",
    "  ```py\n",
    "  client.drop_collection_properties(\n",
    "    property_keys=[\"collection.ttl.seconds\"]\n",
    "  )\n",
    "  ```"
   ]
  },
  {
   "cell_type": "code",
   "execution_count": 13,
   "id": "225b8ff4-8b1b-43d2-916c-b27196d01bda",
   "metadata": {},
   "outputs": [
    {
     "name": "stdout",
     "output_type": "stream",
     "text": [
      "带有 TTL 的 Collection 'my_ttl_collection' 创建成功!\n",
      "\n",
      "Collection 'my_ttl_collection' 的描述信息:\n",
      "  - 描述: Collection with TTL of 300 seconds\n",
      "  - 配置的 TTL (秒): 300\n",
      "  - TTL 验证成功! 设置为 300 秒。\n",
      "\n",
      "注意: 插入到 'my_ttl_collection' 的数据将在 300 秒后自动被 Milvus 清理。\n",
      "要验证 TTL 效果，您可以：\n",
      "  1. 向此 Collection 插入一些数据。\n",
      "  2. 等待超过 300 秒。\n",
      "  3. 查询 Collection，数据应该已被删除 (num_entities 变为 0 或减少)。\n"
     ]
    }
   ],
   "source": [
    "COLLECTION_NAME_TTL = \"my_ttl_collection\"\n",
    "TTL_SECONDS = 300 # 数据存活 300 秒 (5 分钟)\n",
    "\n",
    "# 先确保 Collection 不存在\n",
    "if client.has_collection(collection_name=COLLECTION_NAME_TTL):\n",
    "    print(f\"发现已存在的 Collection '{COLLECTION_NAME_TTL}', 将其删除。\")\n",
    "    client.drop_collection(collection_name=COLLECTION_NAME_TTL)\n",
    "\n",
    "# 1. 定义字段\n",
    "ttl_pk_field = FieldSchema(name=\"id\", dtype=DataType.INT64, is_primary=True, auto_id=True)\n",
    "ttl_data_field = FieldSchema(name=\"message\", dtype=DataType.VARCHAR, max_length=1024)\n",
    "ttl_vector_field = FieldSchema(name=\"vector\", dtype=DataType.FLOAT_VECTOR, dim=4) \n",
    "\n",
    "# 2. 定义Schema\n",
    "ttl_schema = CollectionSchema(\n",
    "    fields=[ttl_pk_field, ttl_data_field, ttl_vector_field],\n",
    "    description=f\"Collection with TTL of {TTL_SECONDS} seconds\",\n",
    "    enable_dynamic_field=False\n",
    ")\n",
    "\n",
    "# 3. 创建带有 TTL 的 Collection\n",
    "try:\n",
    "    client.create_collection(\n",
    "        collection_name=COLLECTION_NAME_TTL,\n",
    "        schema=ttl_schema,\n",
    "        consistency_level=\"Strong\",\n",
    "        properties={\n",
    "            \"collection.ttl.seconds\": TTL_SECONDS\n",
    "        }\n",
    "    )\n",
    "    print(f\"带有 TTL 的 Collection '{COLLECTION_NAME_TTL}' 创建成功!\")\n",
    "except Exception as e:\n",
    "    print(f\"创建带有 TTL 的 Collection '{COLLECTION_NAME_TTL}' 失败: {e}\")\n",
    "    raise\n",
    "\n",
    "# 4. 验证 TTL 设置\n",
    "# Milvus 会将 TTL 信息存储在 Collection 的属性中\n",
    "if client.has_collection(collection_name=COLLECTION_NAME_TTL):\n",
    "    desc_ttl_collection = client.describe_collection(collection_name=COLLECTION_NAME_TTL)\n",
    "    print(f\"\\nCollection '{COLLECTION_NAME_TTL}' 的描述信息:\")\n",
    "    # print(desc_ttl_collection) # 打印完整描述信息以查看结构\n",
    "    \n",
    "    # TTL 信息通常在 'properties' 字段下，键为 'collection.ttl.seconds'\n",
    "    collection_properties = desc_ttl_collection.get('properties', {})\n",
    "    actual_ttl = collection_properties.get('collection.ttl.seconds', '未设置或获取失败')\n",
    "    \n",
    "    print(f\"  - 描述: {desc_ttl_collection.get('description')}\")\n",
    "    print(f\"  - 配置的 TTL (秒): {actual_ttl}\") # 注意：这里返回的是字符串\n",
    "    \n",
    "    if str(actual_ttl) == str(TTL_SECONDS):\n",
    "        print(f\"  - TTL 验证成功! 设置为 {TTL_SECONDS} 秒。\")\n",
    "    else:\n",
    "        print(f\"  - TTL 验证失败或不匹配。期望值: {TTL_SECONDS}, 实际值: {actual_ttl}\")\n",
    "\n",
    "    print(f\"\\n注意: 插入到 '{COLLECTION_NAME_TTL}' 的数据将在 {TTL_SECONDS} 秒后自动被 Milvus 清理。\")\n",
    "    print(\"要验证 TTL 效果，您可以：\")\n",
    "    print(\"  1. 向此 Collection 插入一些数据。\")\n",
    "    print(f\"  2. 等待超过 {TTL_SECONDS} 秒。\")\n",
    "    print(\"  3. 查询 Collection，数据应该已被删除 (num_entities 变为 0 或减少)。\")\n",
    "\n",
    "# # 删除 TTL\n",
    "# client.drop_collection_properties(\n",
    "#     collection_name=COLLECTION_NAME_TTL,\n",
    "#     property_keys=[\"collection.ttl.seconds\"]\n",
    "# )"
   ]
  },
  {
   "cell_type": "markdown",
   "id": "a560aaad-b60c-460f-ade1-f3b20880162e",
   "metadata": {},
   "source": [
    "### Hands-on Exercise 1: 创建一个简单的 Collection\n",
    "\n",
    "**任务**: 创建一个名为 `book_search_mc` 的 Collection，用于存储书籍信息。该 Collection 应包含以下字段：\n",
    "\n",
    "1.  `book_id`:\n",
    "    *   类型: `INT64`\n",
    "    *   属性: 主键 (Primary Key), 自动生成ID (Auto ID)\n",
    "    *   描述: \"Book's unique identifier\"\n",
    "2.  `book_title`:\n",
    "    *   类型: `VARCHAR`\n",
    "    *   属性: 最大长度 (max_length) 512\n",
    "    *   描述: \"Title of the book\"\n",
    "3.  `publication_year`:\n",
    "    *   类型: `INT32`\n",
    "    *   描述: \"Year the book was published\"\n",
    "4.  `book_embedding`:\n",
    "    *   类型: `FLOAT_VECTOR`\n",
    "    *   属性: 维度 (Dimension) 768 (例如，一个常见的句子嵌入维度)\n",
    "    *   描述: \"Vector embedding of the book's content or title\"\n",
    "\n",
    "**步骤**:\n",
    "1. 定义每个字段的 `FieldSchema`。\n",
    "2. 使用这些字段定义 `CollectionSchema`。\n",
    "3. 使用 `client.create_collection()` 创建 Collection。\n",
    "4. 使用 `client.describe_collection()` 验证 Collection 是否成功创建，并打印其 Schema 和实体数量。\n",
    "5. （可选）使用 `client.drop_collection()` 删除创建的 Collection 以清理环境。\n"
   ]
  },
  {
   "cell_type": "code",
   "execution_count": null,
   "id": "ec4eadda-1c73-4a2f-b333-f3916c3d8a9f",
   "metadata": {},
   "outputs": [],
   "source": []
  },
  {
   "cell_type": "code",
   "execution_count": null,
   "id": "16374e25-89fb-44f6-8bd1-2e669f38ce4b",
   "metadata": {},
   "outputs": [],
   "source": []
  }
 ],
 "metadata": {
  "kernelspec": {
   "display_name": "Python 3 (ipykernel)",
   "language": "python",
   "name": "python3"
  },
  "language_info": {
   "codemirror_mode": {
    "name": "ipython",
    "version": 3
   },
   "file_extension": ".py",
   "mimetype": "text/x-python",
   "name": "python",
   "nbconvert_exporter": "python",
   "pygments_lexer": "ipython3",
   "version": "3.9.16"
  }
 },
 "nbformat": 4,
 "nbformat_minor": 5
}
