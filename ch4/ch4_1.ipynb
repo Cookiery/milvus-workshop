{
 "cells": [
  {
   "cell_type": "markdown",
   "id": "82bef137",
   "metadata": {},
   "source": [
    "# 第四部分：Milvus 进阶实战\n",
    "\n",
    "欢迎来到 Milvus Workshop 的第四部分！\n",
    "\n",
    "这一部分主要是关于 Milvus 可观测性、运维、调优等实战，通过这部分能帮助我们更好得了解 Milvus 运行状态，保障 Milvus 稳定运行，且能更好得进行性能调优。"
   ]
  },
  {
   "cell_type": "markdown",
   "id": "f98c861f",
   "metadata": {},
   "source": [
    "## 4.1 Milvus 可观测性运维实战\n",
    "\n",
    "> 本节参考官方文档：[Milvus 监控、警报和日志](https://milvus.io/docs/zh/monitor_overview.md)\n",
    "\n",
    "### 本节内容概览\n",
    "\n",
    "- **1. 可观测性架构理解**：深入理解 Milvus 可观测性架构设计和核心组件作用\n",
    "- **2. 关键指标分析**：掌握 Milvus 指标命名规范和标签体系，学会分析关键性能指标\n",
    "- **3. 组件部署实践**：在集群中部署和配置完整的可观测性组件栈\n",
    "- **4. 监控告警配置**：配置监控面板和告警规则，掌握故障排查方法\n",
    "\n",
    "### 环境要求\n",
    "- ✅ 确保已安装并运行 Milvus 集群\n",
    "- ✅ 确保 K8s 集群内有足够的资源可安装 Prometheus + Loki + Jaeger + Grafana 以及对应的收集器"
   ]
  },
  {
   "cell_type": "markdown",
   "id": "63957a56",
   "metadata": {
    "vscode": {
     "languageId": "raw"
    }
   },
   "source": [
    "### 4.1.1 Milvus 可观测性架构和核心组件\n",
    "\n",
    "可观测性（Observability）是现代分布式系统运维的核心概念，它通过三大支柱来帮助我们理解系统运行状态：\n",
    "\n",
    "**三大支柱**：\n",
    "- 📊 **指标（Metrics）**：数值化的系统状态数据，如 QPS、延迟、错误率等\n",
    "- 📝 **日志（Logs）**：结构化的文本记录，记录系统运行过程中的关键事件\n",
    "- 🔍 **追踪（Tracing）**：请求级别的调用链路追踪，帮助定位性能瓶颈\n",
    "\n",
    "Milvus 可观测性架构采用分层设计，从下到上分为四层：\n",
    "\n",
    "**Kubernetes 集群**\n",
    "- `集群节点`\n",
    "- `Milvus 集群`：Milvus 各个组件\n",
    "\n",
    " **数据采集层**：\n",
    "- `Exporters`：采集节点和 Milvus 各组件暴露出来的各种指标\n",
    "- `Promtail`：采集 Kubernetes 集群中的日志数据\n",
    "- `Jaeger Agent`：采集分布式追踪数据，收集服务间的调用链路信息\n",
    " \n",
    "**数据存储层**：\n",
    "- `Prometheus`：存储时序指标数据\n",
    "- `Loki`：存储日志数据\n",
    "- `Jaeger`：存储分布式追踪数据\n",
    "- `AlertManager`：告警管理，支持各种告警聚合、分组和路由等\n",
    " \n",
    "**可视化层**：\n",
    "- `Grafana`：统一的可视化监控面板，展示指标、日志和追踪数据\n",
    "- `IM / Email`：告警通知渠道（邮件、钉钉、飞书等）\n",
    "\n",
    "\n",
    "**可观测性架构图**\n",
    "\n",
    "![Milvus可观测性架构图](images/Milvus-observability.png)\n"
   ]
  },
  {
   "cell_type": "markdown",
   "id": "c3a7c000",
   "metadata": {
    "vscode": {
     "languageId": "raw"
    }
   },
   "source": [
    "### 4.1.2. Milvus Metrics 说明\n",
    "\n",
    "**Metrics 命名结构**\n",
    "\n",
    "Milvus 中的有效 Metrics 名包含三个要素，用 `_` 连接：\n",
    "\n",
    "```\n",
    "namespace_subsystem_name\n",
    "```\n",
    "\n",
    "- **namespace**: Milvus 组件所在的命名空间（以下假设为 `Milvus`）\n",
    "- **subsystem**: Metrics 所属的组件角色\n",
    "- **name**: 具体的 Metrics 名称\n",
    "\n",
    "**系统组件 (Subsystem)**\n",
    "\n",
    "根据 Metrics 所属的角色，subsystem 包含以下八种：\n",
    "\n",
    "| 组件 | 作用 |\n",
    "|------|------|\n",
    "| `proxy`      | 代理节点 - 请求入口和负载均衡 |\n",
    "| `rootcoord`  | 根协调器 - 集群拓扑管理      |\n",
    "| `querycoord` | 查询协调器 - 查询节点管理    |\n",
    "| `querynode`  | 查询节点 - 执行搜索和查询    |\n",
    "| `datacoord`  | 数据协调器 - 数据写入管理    |\n",
    "| `datanode`   | 数据节点 - 数据写入和持久化  |\n",
    "| `indexcoord` | 索引协调器 - 索引构建管理    |\n",
    "| `indexnode`  | 索引节点 - 执行索引构建      |\n",
    "\n",
    "**Metrics 命名示例**\n",
    "\n",
    "```bash\n",
    "# 代理节点搜索向量数量\n",
    "milvus_proxy_search_vectors_count\n",
    "\n",
    "# 查询节点的搜索请求延迟\n",
    "milvus_querynode_sq_req_latency\n",
    "\n",
    "# 查询协调器累计加载请求数\n",
    "milvus_querycoord_load_req_count\n",
    "```\n",
    "\n",
    "更多更完整的 Metrics 可以参考官网：[Milvus Metrics 控制面板](https://milvus.io/docs/zh/metrics_dashboard.md)\n",
    "\n",
    "**Metrics 类型**\n",
    "\n",
    "Prometheus 支持四种 Metrics 类型：\n",
    "\n",
    "| 类型 | 特点 | 用途 | 示例 |\n",
    "|------|------|------|------|\n",
    "| **Counter** | 累积类型，只能增加或重置为0 | 计数器，如累计查询的向量数 | `milvus_proxy_search_vectors_count` |\n",
    "| **Gauge** | 可增可减的瞬时值 | 当前状态，如调度程序估算的每个查询节点的 CPU 占用率 | `milvus_querynode_estimate_cpu_usage` |\n",
    "| **Histogram** | 基于可配置桶的分布统计 | 搜索和查询请求的延迟 | `milvus_proxy_sq_latency` |\n",
    "| **Summary** | 滑动时间窗口内的分位数 | 快速获取分位数 | `-` |\n",
    "\n",
    "**常用 Metrics 标签**\n",
    "\n",
    "Prometheus 通过标签来区分同名指标的不同实例：\n",
    "\n",
    "| 标签名 | 含义 | 可能值 |\n",
    "|--------|------|-------|\n",
    "| `node_id` | 节点唯一标识 | 由 Milvus 生成的全局唯一 ID |\n",
    "| `status` | 已处理操作或请求的状态 | `abandon`, `success`, `fail` |\n",
    "| `query_type` | 查询类型 | `search`, `query` |\n",
    "| `msg_type` | 消息类型 | `insert`, `delete`, `search`, `query` |\n",
    "| `segment_state` | 段状态 | `Sealed`, `Growing`, `Flushed`, `Flushing`, `Dropped`, `Importing` |\n",
    "| `cache_state` | 缓存状态 | `hit`, `miss` |\n",
    "| `cache_name` | 缓存对象名，该标签与`cache_state`一起使用 | `CollectionID`, `Schema` 等 |\n",
    "| `channel_name` | 消息存储（Pulsar 或 Kafka）中的 Topic | `by-dev-rootcoord-dml_0` 等 |\n",
    "| `function_name` | 处理特定请求的函数名称 | `CreateCollection`, `CreatePartition`, `CreateIndex` 等 |\n",
    "| `user_name` | 用户名 | 用于认证的用户名 |\n",
    "| `index_task_status` | 索引任务在元存储中的状态 | `unissued`, `in-progress`, `failed`, `finished`, `recycled` |\n",
    "\n",
    "**标签使用示例**\n",
    "TODO：\n",
    "```promql\n",
    "# 查询特定节点的搜索成功率\n",
    "milvus_proxy_search_total{node_id=\"proxy-1\", status=\"success\"}\n",
    "\n",
    "# 按查询类型分组的请求延迟\n",
    "milvus_proxy_request_duration_seconds{query_type=\"search\"}\n",
    "\n",
    "# 不同缓存对象的命中率\n",
    "milvus_querynode_cache_hit_total{cache_name=\"CollectionID\"}\n",
    "```"
   ]
  },
  {
   "cell_type": "markdown",
   "id": "dcbe54fb",
   "metadata": {
    "vscode": {
     "languageId": "raw"
    }
   },
   "source": [
    "### 4.1.3. 可观测性组件部署实战\n",
    "\n",
    "**环境准备**\n",
    "\n",
    "首先确保你已经有一个运行的 Milvus 实例。我们将在现有的 Milvus 环境基础上添加监控栈。\n",
    "\n",
    "**检查现有环境**\n"
   ]
  }
 ],
 "metadata": {
  "language_info": {
   "name": "python"
  }
 },
 "nbformat": 4,
 "nbformat_minor": 5
}
